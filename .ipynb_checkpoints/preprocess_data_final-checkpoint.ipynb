{
 "cells": [
  {
   "cell_type": "markdown",
   "metadata": {},
   "source": [
    "### Preprocess data"
   ]
  },
  {
   "cell_type": "markdown",
   "metadata": {},
   "source": [
    "This notebook contains all the code for preprocessing the data of LE and it's factors. \n",
    "\n",
    "\"DataSetReconstruct.csv\" is all the data where we have used outside sources to reconstruct the data as much as possible. At this point we have a total of 2936 rows and 22 column, but only 1859 of the rows have no NaN values.\n",
    "\n",
    "This notebook imputes missing values and ends up saving the data as \"Data_processed.csv\". This data has all 2936 rows and 22 columns NaN free. "
   ]
  },
  {
   "cell_type": "code",
   "execution_count": 9,
   "metadata": {},
   "outputs": [],
   "source": [
    "# First the necessary imports\n",
    "\n",
    "import numpy as np # linear algebra\n",
    "import warnings\n",
    "warnings.simplefilter(action='ignore', category=FutureWarning)\n",
    "import pandas as pd # data processing\n",
    "import matplotlib as mplib\n",
    "from matplotlib import pyplot as plt\n",
    "import seaborn as sns\n",
    "import pyro\n",
    "import seaborn as sns\n",
    "import warnings\n",
    "warnings.filterwarnings(\"ignore\")\n",
    "sns.set_style('whitegrid')\n"
   ]
  },
  {
   "cell_type": "markdown",
   "metadata": {},
   "source": [
    "In this part we replace the NaN values with the closest value in time for that country.\n",
    "Meaning that for example if Denmark has no value for Health expenditure in 2005, we will replace it with the value from 2004. If there is no value for 2004, we will replace it with the value from 2006. If no value for 2006, go to 2003 etc..."
   ]
  },
  {
   "cell_type": "code",
   "execution_count": 10,
   "metadata": {},
   "outputs": [
    {
     "name": "stdout",
     "output_type": "stream",
     "text": [
      "2205\n"
     ]
    }
   ],
   "source": [
    "\n",
    "data = pd.read_csv(\"Data/DataSetReconstruct.csv\", sep=';')\n",
    "\n",
    "# log transform GDP, Population and MeaslesPrMillion as these are skewed, + 1 to avoid log(0)\n",
    "data['GDP'] = np.log(data['GDP'] + 1)\n",
    "data['Population'] = np.log(data['Population'] + 1)\n",
    "data['MeaslesPrMillion'] = np.log(data['MeaslesPrMillion'] + 1)\n",
    "# print total amount of nan values in entire dataset\n",
    "print(data.isnull().sum().sum())\n",
    "\n",
    "# Now we will replace the missing values with the closest year of missing value of that country\n",
    "for col in data.columns:\n",
    "    if col == 'Country' or col == 'Year':\n",
    "        continue\n",
    "    # check if column is numerical\n",
    "    if data[col].dtype == 'float64' or data[col].dtype == 'int64':\n",
    "        # replace missing values with closest year of missing value of that country\n",
    "        for country in data['Country'].unique():\n",
    "            d = data[data['Country'] == country]\n",
    "            # check if there are missing values\n",
    "            if d[col].isnull().sum() > 0:\n",
    "                # get index of missing values\n",
    "                idx = d[d[col].isnull()].index.values\n",
    "                # loop over all missing values\n",
    "                for i in idx:\n",
    "                    # get year of missing value by indexing on the row index\n",
    "                    year = data['Year'].loc[i] \n",
    "                    # get index of closest year\n",
    "                    list_of_closest_years = (d['Year'] - year).abs().argsort()[::-1]\n",
    "\n",
    "                    for new_year in list_of_closest_years.index:\n",
    "                        new_data = d[col].loc[new_year]\n",
    "                        # overwrite missing value with closest year\n",
    "                        if np.isnan(new_data):\n",
    "                            continue\n",
    "                        data[col][i] = new_data\n",
    "                        break"
   ]
  },
  {
   "cell_type": "markdown",
   "metadata": {},
   "source": [
    "Finally, we replace values that are still NaN with the mean of that column.\n",
    "This happens only if there is no value for that country in any year."
   ]
  },
  {
   "cell_type": "code",
   "execution_count": null,
   "metadata": {},
   "outputs": [],
   "source": [
    "# replace remaining nan values by mean of column\n",
    "for col in data.columns:\n",
    "    if col == 'Country' or col == 'Year':\n",
    "        continue\n",
    "    # check if column is numerical\n",
    "    if data[col].dtype == 'float64' or data[col].dtype == 'int64':\n",
    "        # replace missing values with mean of column\n",
    "        data[col] = data[col].fillna(data[col].mean())\n",
    "\n",
    "\n",
    "# only keep relevant columns\n",
    "# We throw away columns that we don't care about\n",
    "data = data[['Country', 'continent', 'Life expectancy ', 'Year', 'Status', 'infant deaths', 'Alcohol', 'Hepatitis B', 'MeaslesPrMillion', 'OverweightOfAdults%', 'Polio', 'Total expenditure', 'Diphtheria ', ' HIV/AIDS', 'GDP', 'Population', ' thinness  1-19 years', 'Schooling', 'WaterFacility', 'WomenInParlament']]\n",
    "\n",
    "# save data\n",
    "data.to_csv('Data/Data_processed.csv', sep=';', index=False)"
   ]
  },
  {
   "cell_type": "markdown",
   "metadata": {},
   "source": [
    "Now it's all set and done as we have a dataset with no NaN values. Time to go Pyro!"
   ]
  }
 ],
 "metadata": {
  "kernelspec": {
   "display_name": "Python 3 (ipykernel)",
   "language": "python",
   "name": "python3"
  },
  "language_info": {
   "codemirror_mode": {
    "name": "ipython",
    "version": 3
   },
   "file_extension": ".py",
   "mimetype": "text/x-python",
   "name": "python",
   "nbconvert_exporter": "python",
   "pygments_lexer": "ipython3",
   "version": "3.8.16"
  }
 },
 "nbformat": 4,
 "nbformat_minor": 2
}
