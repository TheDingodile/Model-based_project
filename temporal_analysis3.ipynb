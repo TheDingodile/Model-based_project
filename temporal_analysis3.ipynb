{
 "cells": [
  {
   "cell_type": "code",
   "execution_count": 1,
   "metadata": {},
   "outputs": [
    {
     "name": "stderr",
     "output_type": "stream",
     "text": [
      "C:\\Users\\jakob\\AppData\\Local\\Packages\\PythonSoftwareFoundation.Python.3.9_qbz5n2kfra8p0\\LocalCache\\local-packages\\Python39\\site-packages\\tqdm\\auto.py:21: TqdmWarning: IProgress not found. Please update jupyter and ipywidgets. See https://ipywidgets.readthedocs.io/en/stable/user_install.html\n",
      "  from .autonotebook import tqdm as notebook_tqdm\n"
     ]
    }
   ],
   "source": [
    "import numpy as np\n",
    "import pandas as pd\n",
    "from matplotlib import pyplot as plt\n",
    "from sklearn import linear_model\n",
    "import seaborn as sns\n",
    "import time\n",
    "\n",
    "import numpyro\n",
    "import numpyro.distributions as dist\n",
    "from numpyro import handlers\n",
    "from numpyro.infer import MCMC, NUTS\n",
    "\n",
    "import jax.numpy as jnp\n",
    "from jax import random, vmap\n",
    "from jax.scipy.special import logsumexp\n",
    "from jax import lax\n",
    "\n",
    "# fix random generator seed (for reproducibility of results)\n",
    "np.random.seed(42)\n",
    "\n",
    "# matplotlib style options\n",
    "plt.style.use('ggplot')\n",
    "%matplotlib inline\n",
    "plt.rcParams['figure.figsize'] = (16, 10)"
   ]
  },
  {
   "cell_type": "code",
   "execution_count": 2,
   "metadata": {},
   "outputs": [],
   "source": [
    "data = pd.read_csv(\"Data/Data_processed.csv\", sep=';')\n",
    "\n",
    "\n",
    "for country in data['Country'].unique():\n",
    "    d = data[data['Country'] == country]\n",
    "    # sort by year\n",
    "    d = d.sort_values(by='Year')\n",
    "    # transform data to look at differences from year to year for all nummerical features (2 first columns are country and continent)\n",
    "    d.iloc[:,5:] = d.iloc[:,5:].diff()\n",
    "    # replace invividual nan values with 0\n",
    "    data[data['Country'] == country] = d\n",
    "\n",
    "data['Life expectancy difference'] = 0\n",
    "for country in data['Country'].unique():\n",
    "    d = data[data['Country'] == country]\n",
    "    # sort by year\n",
    "    d = d.sort_values(by='Year')\n",
    "    # get difference in life expectancy\n",
    "    d['Life expectancy difference'] = d['Life expectancy '].diff()\n",
    "\n",
    "\n",
    "    # replace old values with new values\n",
    "    data[data['Country'] == country] = d\n"
   ]
  },
  {
   "cell_type": "code",
   "execution_count": 3,
   "metadata": {},
   "outputs": [],
   "source": [
    "data['Life expectancy difference 1 year ago'] = 0\n",
    "data['Life expectancy difference 2 years ago'] = 0\n",
    "# get difference in life expectancy for each country and year\n",
    "for country in data['Country'].unique():\n",
    "    d = data[data['Country'] == country]\n",
    "    # sort by year\n",
    "    d = d.sort_values(by='Year')\n",
    "    # get difference in life expectancy\n",
    "    d['Life expectancy difference'] = d['Life expectancy difference'].shift(-1)\n",
    "    d['Life expectancy difference 1 year ago'] = d['Life expectancy difference'].shift(1)\n",
    "    d['Life expectancy difference 2 years ago'] = d['Life expectancy difference'].shift(2)\n",
    "\n",
    "    # replace old values with new values\n",
    "    data[data['Country'] == country] = d\n",
    "\n",
    "# remove year 2001 and 2002\n",
    "# data = data[data['Year'] != 2001]\n",
    "\n",
    "# loop over each year and print how many nan values there are\n",
    "# for year in data['Year'].unique():\n",
    "#     print(year, data[data['Year'] == year].isna().sum().sum())\n",
    "\n",
    "# print average over contries life expectancy difference for each year\n",
    "data = data.dropna()"
   ]
  },
  {
   "cell_type": "code",
   "execution_count": 5,
   "metadata": {},
   "outputs": [
    {
     "name": "stderr",
     "output_type": "stream",
     "text": [
      "C:\\Users\\jakob\\AppData\\Local\\Temp\\ipykernel_8740\\1311968953.py:12: SettingWithCopyWarning: \n",
      "A value is trying to be set on a copy of a slice from a DataFrame.\n",
      "Try using .loc[row_indexer,col_indexer] = value instead\n",
      "\n",
      "See the caveats in the documentation: https://pandas.pydata.org/pandas-docs/stable/user_guide/indexing.html#returning-a-view-versus-a-copy\n",
      "  train_split[col] = (train_split[col] - mean) / std\n",
      "C:\\Users\\jakob\\AppData\\Local\\Temp\\ipykernel_8740\\1311968953.py:13: SettingWithCopyWarning: \n",
      "A value is trying to be set on a copy of a slice from a DataFrame.\n",
      "Try using .loc[row_indexer,col_indexer] = value instead\n",
      "\n",
      "See the caveats in the documentation: https://pandas.pydata.org/pandas-docs/stable/user_guide/indexing.html#returning-a-view-versus-a-copy\n",
      "  test_split[col] = (test_split[col] - mean) / std\n"
     ]
    }
   ],
   "source": [
    "train_split = data[data['Year'] < 2009]\n",
    "test_split = data[data['Year'] >= 2009]\n",
    "\n",
    "# make list of all columns that need to be standardized\n",
    "cols = train_split.columns\n",
    "# cols = cols.drop(['Country', 'continent', 'Year', 'Status'])\n",
    "# standardize all columns except country, continent, year and status\n",
    "for col in cols:\n",
    "    if col not in ['Country', 'continent', 'Year', 'Status']:\n",
    "        mean = train_split[col].mean()\n",
    "        std = train_split[col].std()\n",
    "        train_split[col] = (train_split[col] - mean) / std\n",
    "        test_split[col] = (test_split[col] - mean) / std\n",
    "\n",
    "# make numpy array of standardized data, first dimension is time, second is countries, third is features\n",
    "countries_train = train_split['Country'].unique()\n",
    "years_train = train_split['Year'].unique()\n",
    "countries_test = test_split['Country'].unique()\n",
    "years_test = test_split['Year'].unique()\n",
    "cols = cols.drop(['Life expectancy ', 'Country', 'Year', 'continent', 'Life expectancy difference 1 year ago', 'Life expectancy difference 2 years ago', 'Life expectancy difference'])\n",
    "train_split_np_features = np.empty((len(years_train), len(countries_train), len(cols)))\n",
    "train_split_np_target = np.empty((len(years_train), len(countries_train)))\n",
    "test_split_np_features = np.empty((len(years_test), len(countries_test), len(cols)))\n",
    "test_split_np_target = np.empty((len(years_test), len(countries_test)))\n",
    "\n",
    "target = 'Life expectancy difference'\n",
    "for i, country in enumerate(countries_train):\n",
    "    for j, year in enumerate(years_train):\n",
    "        # take nummeric data of country and put in numpy array\n",
    "        train_split_np_features[j, i] = train_split.loc[(train_split['Country'] == country) & (train_split['Year'] == year)][cols].to_numpy()\n",
    "        # take target of country and put in numpy array\n",
    "        train_split_np_target[j, i] = train_split.loc[(train_split['Country'] == country) & (train_split['Year'] == year)][target].to_numpy()\n",
    "for i, country in enumerate(countries_test):\n",
    "    for j, year in enumerate(years_test):\n",
    "        # take nummeric data of country and put in numpy array\n",
    "        test_split_np_features[j, i] = test_split.loc[(test_split['Country'] == country) & (test_split['Year'] == year)][cols].to_numpy()\n",
    "        # take target of country and put in numpy array\n",
    "        test_split_np_target[j, i] = test_split.loc[(test_split['Country'] == country) & (test_split['Year'] == year)][target].to_numpy()\n",
    "\n",
    "test_split_np_features = np.concatenate((train_split_np_features[-2:], test_split_np_features))\n",
    "test_split_np_target = np.concatenate((train_split_np_target[-2:], test_split_np_target))\n"
   ]
  },
  {
   "cell_type": "code",
   "execution_count": 78,
   "metadata": {},
   "outputs": [],
   "source": [
    "def f(carry, h_external_change):\n",
    "  beta2, z_prev1, z_prev2 = carry\n",
    "  z_t = beta2[0]*z_prev1 + beta2[1]*z_prev2 + h_external_change\n",
    "  z_prev2 = z_prev1\n",
    "  z_prev1 = z_t\n",
    "  return (beta2, z_prev1, z_prev2), z_t\n",
    "\n",
    "\n",
    "def model(obs_x, obs_y):\n",
    "    time = obs_x.shape[0]\n",
    "    countries = obs_x.shape[1]\n",
    "    features_x = obs_x.shape[2]\n",
    "    \n",
    "\n",
    "    beta1 = numpyro.sample(name=\"beta1\", fn=dist.Normal(loc=0., scale=1), sample_shape=(features_x,))\n",
    "    xs = numpyro.sample(name=\"xs\", fn=dist.Normal(loc=0., scale=1.), sample_shape=(time, countries, features_x, ), obs=obs_x)\n",
    "    beta2 = numpyro.sample(name=\"beta2\", fn=dist.Normal(loc=0., scale=1), sample_shape=(2,))\n",
    "    tau = numpyro.sample(name=\"tau\", fn=dist.HalfCauchy(scale=.1))\n",
    "    sigma = numpyro.sample(name=\"sigma\", fn=dist.HalfCauchy(scale=.1))\n",
    "    z0 = numpyro.sample(name=\"z0\", fn=dist.Normal(loc=0, scale=.1), sample_shape=(countries,))\n",
    "    z1 = numpyro.sample(name=\"z1\", fn=dist.Normal(loc=0, scale=.1), sample_shape=(countries,))\n",
    "\n",
    "    h_external_change = numpyro.sample(name=\"h_change\", fn=dist.Normal(loc=xs @ beta1, scale=tau))\n",
    "\n",
    "    carry = (beta2, z0, z1)\n",
    "    z_collection = [z0, z1]\n",
    "    carry, zs_exp = lax.scan(f, carry, h_external_change, time)\n",
    "    z_collection = jnp.concatenate((jnp.array(z_collection), zs_exp), axis=0)\n",
    "\n",
    "    numpyro.sample(name=\"y_obs\", fn=dist.Normal(loc=zs_exp, scale=sigma), obs=obs_y)\n",
    "    return z_collection"
   ]
  },
  {
   "cell_type": "code",
   "execution_count": 79,
   "metadata": {},
   "outputs": [
    {
     "name": "stdout",
     "output_type": "stream",
     "text": [
      "(7, 183, 16) (8, 183, 16) (7, 183) (8, 183)\n"
     ]
    },
    {
     "ename": "TypeError",
     "evalue": "'>' not supported between instances of 'tuple' and 'int'",
     "output_type": "error",
     "traceback": [
      "\u001b[1;31m---------------------------------------------------------------------------\u001b[0m",
      "\u001b[1;31mTypeError\u001b[0m                                 Traceback (most recent call last)",
      "Cell \u001b[1;32mIn[79], line 10\u001b[0m\n\u001b[0;32m      8\u001b[0m nuts_kernel \u001b[39m=\u001b[39m NUTS(model\u001b[39m=\u001b[39mmodel, max_tree_depth\u001b[39m=\u001b[39m\u001b[39m8\u001b[39m, step_size\u001b[39m=\u001b[39m\u001b[39m5e-3\u001b[39m, adapt_step_size\u001b[39m=\u001b[39m\u001b[39mFalse\u001b[39;00m)\n\u001b[0;32m      9\u001b[0m mcmc \u001b[39m=\u001b[39m MCMC(nuts_kernel, num_samples\u001b[39m=\u001b[39m\u001b[39m100\u001b[39m, num_warmup\u001b[39m=\u001b[39m\u001b[39m50\u001b[39m, num_chains\u001b[39m=\u001b[39m\u001b[39m1\u001b[39m, progress_bar\u001b[39m=\u001b[39m\u001b[39mTrue\u001b[39;00m)\n\u001b[1;32m---> 10\u001b[0m mcmc\u001b[39m.\u001b[39;49mrun(rng_key_, obs_x\u001b[39m=\u001b[39;49mtrain_split_np_features, obs_y\u001b[39m=\u001b[39;49mtrain_split_np_target)\n\u001b[0;32m     12\u001b[0m t_fin \u001b[39m=\u001b[39m time\u001b[39m.\u001b[39mtime()\n\u001b[0;32m     14\u001b[0m \u001b[39mprint\u001b[39m(\u001b[39m\"\u001b[39m\u001b[39mTotal time: \u001b[39m\u001b[39m{0:.3f}\u001b[39;00m\u001b[39mm\u001b[39m\u001b[39m\"\u001b[39m\u001b[39m.\u001b[39mformat((t_fin \u001b[39m-\u001b[39m t0)\u001b[39m/\u001b[39m\u001b[39m60\u001b[39m))\n",
      "File \u001b[1;32m~\\AppData\\Local\\Packages\\PythonSoftwareFoundation.Python.3.9_qbz5n2kfra8p0\\LocalCache\\local-packages\\Python39\\site-packages\\numpyro\\infer\\mcmc.py:593\u001b[0m, in \u001b[0;36mMCMC.run\u001b[1;34m(self, rng_key, extra_fields, init_params, *args, **kwargs)\u001b[0m\n\u001b[0;32m    591\u001b[0m map_args \u001b[39m=\u001b[39m (rng_key, init_state, init_params)\n\u001b[0;32m    592\u001b[0m \u001b[39mif\u001b[39;00m \u001b[39mself\u001b[39m\u001b[39m.\u001b[39mnum_chains \u001b[39m==\u001b[39m \u001b[39m1\u001b[39m:\n\u001b[1;32m--> 593\u001b[0m     states_flat, last_state \u001b[39m=\u001b[39m partial_map_fn(map_args)\n\u001b[0;32m    594\u001b[0m     states \u001b[39m=\u001b[39m tree_map(\u001b[39mlambda\u001b[39;00m x: x[jnp\u001b[39m.\u001b[39mnewaxis, \u001b[39m.\u001b[39m\u001b[39m.\u001b[39m\u001b[39m.\u001b[39m], states_flat)\n\u001b[0;32m    595\u001b[0m \u001b[39melse\u001b[39;00m:\n",
      "File \u001b[1;32m~\\AppData\\Local\\Packages\\PythonSoftwareFoundation.Python.3.9_qbz5n2kfra8p0\\LocalCache\\local-packages\\Python39\\site-packages\\numpyro\\infer\\mcmc.py:381\u001b[0m, in \u001b[0;36mMCMC._single_chain_mcmc\u001b[1;34m(self, init, args, kwargs, collect_fields)\u001b[0m\n\u001b[0;32m    379\u001b[0m rng_key, init_state, init_params \u001b[39m=\u001b[39m init\n\u001b[0;32m    380\u001b[0m \u001b[39mif\u001b[39;00m init_state \u001b[39mis\u001b[39;00m \u001b[39mNone\u001b[39;00m:\n\u001b[1;32m--> 381\u001b[0m     init_state \u001b[39m=\u001b[39m \u001b[39mself\u001b[39;49m\u001b[39m.\u001b[39;49msampler\u001b[39m.\u001b[39;49minit(\n\u001b[0;32m    382\u001b[0m         rng_key,\n\u001b[0;32m    383\u001b[0m         \u001b[39mself\u001b[39;49m\u001b[39m.\u001b[39;49mnum_warmup,\n\u001b[0;32m    384\u001b[0m         init_params,\n\u001b[0;32m    385\u001b[0m         model_args\u001b[39m=\u001b[39;49margs,\n\u001b[0;32m    386\u001b[0m         model_kwargs\u001b[39m=\u001b[39;49mkwargs,\n\u001b[0;32m    387\u001b[0m     )\n\u001b[0;32m    388\u001b[0m sample_fn, postprocess_fn \u001b[39m=\u001b[39m \u001b[39mself\u001b[39m\u001b[39m.\u001b[39m_get_cached_fns()\n\u001b[0;32m    389\u001b[0m diagnostics \u001b[39m=\u001b[39m (\n\u001b[0;32m    390\u001b[0m     \u001b[39mlambda\u001b[39;00m x: \u001b[39mself\u001b[39m\u001b[39m.\u001b[39msampler\u001b[39m.\u001b[39mget_diagnostics_str(x[\u001b[39m0\u001b[39m])\n\u001b[0;32m    391\u001b[0m     \u001b[39mif\u001b[39;00m rng_key\u001b[39m.\u001b[39mndim \u001b[39m==\u001b[39m \u001b[39m1\u001b[39m\n\u001b[0;32m    392\u001b[0m     \u001b[39melse\u001b[39;00m \u001b[39m\"\u001b[39m\u001b[39m\"\u001b[39m\n\u001b[0;32m    393\u001b[0m )  \u001b[39m# noqa: E731\u001b[39;00m\n",
      "File \u001b[1;32m~\\AppData\\Local\\Packages\\PythonSoftwareFoundation.Python.3.9_qbz5n2kfra8p0\\LocalCache\\local-packages\\Python39\\site-packages\\numpyro\\infer\\hmc.py:706\u001b[0m, in \u001b[0;36mHMC.init\u001b[1;34m(self, rng_key, num_warmup, init_params, model_args, model_kwargs)\u001b[0m\n\u001b[0;32m    701\u001b[0m \u001b[39m# vectorized\u001b[39;00m\n\u001b[0;32m    702\u001b[0m \u001b[39melse\u001b[39;00m:\n\u001b[0;32m    703\u001b[0m     rng_key, rng_key_init_model \u001b[39m=\u001b[39m jnp\u001b[39m.\u001b[39mswapaxes(\n\u001b[0;32m    704\u001b[0m         vmap(random\u001b[39m.\u001b[39msplit)(rng_key), \u001b[39m0\u001b[39m, \u001b[39m1\u001b[39m\n\u001b[0;32m    705\u001b[0m     )\n\u001b[1;32m--> 706\u001b[0m init_params \u001b[39m=\u001b[39m \u001b[39mself\u001b[39;49m\u001b[39m.\u001b[39;49m_init_state(\n\u001b[0;32m    707\u001b[0m     rng_key_init_model, model_args, model_kwargs, init_params\n\u001b[0;32m    708\u001b[0m )\n\u001b[0;32m    709\u001b[0m \u001b[39mif\u001b[39;00m \u001b[39mself\u001b[39m\u001b[39m.\u001b[39m_potential_fn \u001b[39mand\u001b[39;00m init_params \u001b[39mis\u001b[39;00m \u001b[39mNone\u001b[39;00m:\n\u001b[0;32m    710\u001b[0m     \u001b[39mraise\u001b[39;00m \u001b[39mValueError\u001b[39;00m(\n\u001b[0;32m    711\u001b[0m         \u001b[39m\"\u001b[39m\u001b[39mValid value of `init_params` must be provided with\u001b[39m\u001b[39m\"\u001b[39m \u001b[39m\"\u001b[39m\u001b[39m `potential_fn`.\u001b[39m\u001b[39m\"\u001b[39m\n\u001b[0;32m    712\u001b[0m     )\n",
      "File \u001b[1;32m~\\AppData\\Local\\Packages\\PythonSoftwareFoundation.Python.3.9_qbz5n2kfra8p0\\LocalCache\\local-packages\\Python39\\site-packages\\numpyro\\infer\\hmc.py:652\u001b[0m, in \u001b[0;36mHMC._init_state\u001b[1;34m(self, rng_key, model_args, model_kwargs, init_params)\u001b[0m\n\u001b[0;32m    650\u001b[0m \u001b[39mdef\u001b[39;00m \u001b[39m_init_state\u001b[39m(\u001b[39mself\u001b[39m, rng_key, model_args, model_kwargs, init_params):\n\u001b[0;32m    651\u001b[0m     \u001b[39mif\u001b[39;00m \u001b[39mself\u001b[39m\u001b[39m.\u001b[39m_model \u001b[39mis\u001b[39;00m \u001b[39mnot\u001b[39;00m \u001b[39mNone\u001b[39;00m:\n\u001b[1;32m--> 652\u001b[0m         init_params, potential_fn, postprocess_fn, model_trace \u001b[39m=\u001b[39m initialize_model(\n\u001b[0;32m    653\u001b[0m             rng_key,\n\u001b[0;32m    654\u001b[0m             \u001b[39mself\u001b[39;49m\u001b[39m.\u001b[39;49m_model,\n\u001b[0;32m    655\u001b[0m             dynamic_args\u001b[39m=\u001b[39;49m\u001b[39mTrue\u001b[39;49;00m,\n\u001b[0;32m    656\u001b[0m             init_strategy\u001b[39m=\u001b[39;49m\u001b[39mself\u001b[39;49m\u001b[39m.\u001b[39;49m_init_strategy,\n\u001b[0;32m    657\u001b[0m             model_args\u001b[39m=\u001b[39;49mmodel_args,\n\u001b[0;32m    658\u001b[0m             model_kwargs\u001b[39m=\u001b[39;49mmodel_kwargs,\n\u001b[0;32m    659\u001b[0m             forward_mode_differentiation\u001b[39m=\u001b[39;49m\u001b[39mself\u001b[39;49m\u001b[39m.\u001b[39;49m_forward_mode_differentiation,\n\u001b[0;32m    660\u001b[0m         )\n\u001b[0;32m    661\u001b[0m         \u001b[39mif\u001b[39;00m \u001b[39mself\u001b[39m\u001b[39m.\u001b[39m_init_fn \u001b[39mis\u001b[39;00m \u001b[39mNone\u001b[39;00m:\n\u001b[0;32m    662\u001b[0m             \u001b[39mself\u001b[39m\u001b[39m.\u001b[39m_init_fn, \u001b[39mself\u001b[39m\u001b[39m.\u001b[39m_sample_fn \u001b[39m=\u001b[39m hmc(\n\u001b[0;32m    663\u001b[0m                 potential_fn_gen\u001b[39m=\u001b[39mpotential_fn,\n\u001b[0;32m    664\u001b[0m                 kinetic_fn\u001b[39m=\u001b[39m\u001b[39mself\u001b[39m\u001b[39m.\u001b[39m_kinetic_fn,\n\u001b[0;32m    665\u001b[0m                 algo\u001b[39m=\u001b[39m\u001b[39mself\u001b[39m\u001b[39m.\u001b[39m_algo,\n\u001b[0;32m    666\u001b[0m             )\n",
      "File \u001b[1;32m~\\AppData\\Local\\Packages\\PythonSoftwareFoundation.Python.3.9_qbz5n2kfra8p0\\LocalCache\\local-packages\\Python39\\site-packages\\numpyro\\infer\\util.py:606\u001b[0m, in \u001b[0;36minitialize_model\u001b[1;34m(rng_key, model, init_strategy, dynamic_args, model_args, model_kwargs, forward_mode_differentiation, validate_grad)\u001b[0m\n\u001b[0;32m    596\u001b[0m model_kwargs \u001b[39m=\u001b[39m {} \u001b[39mif\u001b[39;00m model_kwargs \u001b[39mis\u001b[39;00m \u001b[39mNone\u001b[39;00m \u001b[39melse\u001b[39;00m model_kwargs\n\u001b[0;32m    597\u001b[0m substituted_model \u001b[39m=\u001b[39m substitute(\n\u001b[0;32m    598\u001b[0m     seed(model, rng_key \u001b[39mif\u001b[39;00m jnp\u001b[39m.\u001b[39mndim(rng_key) \u001b[39m==\u001b[39m \u001b[39m1\u001b[39m \u001b[39melse\u001b[39;00m rng_key[\u001b[39m0\u001b[39m]),\n\u001b[0;32m    599\u001b[0m     substitute_fn\u001b[39m=\u001b[39minit_strategy,\n\u001b[0;32m    600\u001b[0m )\n\u001b[0;32m    601\u001b[0m (\n\u001b[0;32m    602\u001b[0m     inv_transforms,\n\u001b[0;32m    603\u001b[0m     replay_model,\n\u001b[0;32m    604\u001b[0m     has_enumerate_support,\n\u001b[0;32m    605\u001b[0m     model_trace,\n\u001b[1;32m--> 606\u001b[0m ) \u001b[39m=\u001b[39m _get_model_transforms(substituted_model, model_args, model_kwargs)\n\u001b[0;32m    607\u001b[0m \u001b[39m# substitute param sites from model_trace to model so\u001b[39;00m\n\u001b[0;32m    608\u001b[0m \u001b[39m# we don't need to generate again parameters of `numpyro.module`\u001b[39;00m\n\u001b[0;32m    609\u001b[0m model \u001b[39m=\u001b[39m substitute(\n\u001b[0;32m    610\u001b[0m     model,\n\u001b[0;32m    611\u001b[0m     data\u001b[39m=\u001b[39m{\n\u001b[1;32m   (...)\u001b[0m\n\u001b[0;32m    615\u001b[0m     },\n\u001b[0;32m    616\u001b[0m )\n",
      "File \u001b[1;32m~\\AppData\\Local\\Packages\\PythonSoftwareFoundation.Python.3.9_qbz5n2kfra8p0\\LocalCache\\local-packages\\Python39\\site-packages\\numpyro\\infer\\util.py:404\u001b[0m, in \u001b[0;36m_get_model_transforms\u001b[1;34m(model, model_args, model_kwargs)\u001b[0m\n\u001b[0;32m    402\u001b[0m \u001b[39mdef\u001b[39;00m \u001b[39m_get_model_transforms\u001b[39m(model, model_args\u001b[39m=\u001b[39m(), model_kwargs\u001b[39m=\u001b[39m\u001b[39mNone\u001b[39;00m):\n\u001b[0;32m    403\u001b[0m     model_kwargs \u001b[39m=\u001b[39m {} \u001b[39mif\u001b[39;00m model_kwargs \u001b[39mis\u001b[39;00m \u001b[39mNone\u001b[39;00m \u001b[39melse\u001b[39;00m model_kwargs\n\u001b[1;32m--> 404\u001b[0m     model_trace \u001b[39m=\u001b[39m trace(model)\u001b[39m.\u001b[39mget_trace(\u001b[39m*\u001b[39mmodel_args, \u001b[39m*\u001b[39m\u001b[39m*\u001b[39mmodel_kwargs)\n\u001b[0;32m    405\u001b[0m     inv_transforms \u001b[39m=\u001b[39m {}\n\u001b[0;32m    406\u001b[0m     \u001b[39m# model code may need to be replayed in the presence of deterministic sites\u001b[39;00m\n",
      "File \u001b[1;32m~\\AppData\\Local\\Packages\\PythonSoftwareFoundation.Python.3.9_qbz5n2kfra8p0\\LocalCache\\local-packages\\Python39\\site-packages\\numpyro\\handlers.py:171\u001b[0m, in \u001b[0;36mtrace.get_trace\u001b[1;34m(self, *args, **kwargs)\u001b[0m\n\u001b[0;32m    163\u001b[0m \u001b[39mdef\u001b[39;00m \u001b[39mget_trace\u001b[39m(\u001b[39mself\u001b[39m, \u001b[39m*\u001b[39margs, \u001b[39m*\u001b[39m\u001b[39m*\u001b[39mkwargs):\n\u001b[0;32m    164\u001b[0m \u001b[39m    \u001b[39m\u001b[39m\"\"\"\u001b[39;00m\n\u001b[0;32m    165\u001b[0m \u001b[39m    Run the wrapped callable and return the recorded trace.\u001b[39;00m\n\u001b[0;32m    166\u001b[0m \n\u001b[1;32m   (...)\u001b[0m\n\u001b[0;32m    169\u001b[0m \u001b[39m    :return: `OrderedDict` containing the execution trace.\u001b[39;00m\n\u001b[0;32m    170\u001b[0m \u001b[39m    \"\"\"\u001b[39;00m\n\u001b[1;32m--> 171\u001b[0m     \u001b[39mself\u001b[39m(\u001b[39m*\u001b[39margs, \u001b[39m*\u001b[39m\u001b[39m*\u001b[39mkwargs)\n\u001b[0;32m    172\u001b[0m     \u001b[39mreturn\u001b[39;00m \u001b[39mself\u001b[39m\u001b[39m.\u001b[39mtrace\n",
      "File \u001b[1;32m~\\AppData\\Local\\Packages\\PythonSoftwareFoundation.Python.3.9_qbz5n2kfra8p0\\LocalCache\\local-packages\\Python39\\site-packages\\numpyro\\primitives.py:105\u001b[0m, in \u001b[0;36mMessenger.__call__\u001b[1;34m(self, *args, **kwargs)\u001b[0m\n\u001b[0;32m    103\u001b[0m     \u001b[39mreturn\u001b[39;00m \u001b[39mself\u001b[39m\n\u001b[0;32m    104\u001b[0m \u001b[39mwith\u001b[39;00m \u001b[39mself\u001b[39m:\n\u001b[1;32m--> 105\u001b[0m     \u001b[39mreturn\u001b[39;00m \u001b[39mself\u001b[39m\u001b[39m.\u001b[39mfn(\u001b[39m*\u001b[39margs, \u001b[39m*\u001b[39m\u001b[39m*\u001b[39mkwargs)\n",
      "File \u001b[1;32m~\\AppData\\Local\\Packages\\PythonSoftwareFoundation.Python.3.9_qbz5n2kfra8p0\\LocalCache\\local-packages\\Python39\\site-packages\\numpyro\\primitives.py:105\u001b[0m, in \u001b[0;36mMessenger.__call__\u001b[1;34m(self, *args, **kwargs)\u001b[0m\n\u001b[0;32m    103\u001b[0m     \u001b[39mreturn\u001b[39;00m \u001b[39mself\u001b[39m\n\u001b[0;32m    104\u001b[0m \u001b[39mwith\u001b[39;00m \u001b[39mself\u001b[39m:\n\u001b[1;32m--> 105\u001b[0m     \u001b[39mreturn\u001b[39;00m \u001b[39mself\u001b[39m\u001b[39m.\u001b[39mfn(\u001b[39m*\u001b[39margs, \u001b[39m*\u001b[39m\u001b[39m*\u001b[39mkwargs)\n",
      "File \u001b[1;32m~\\AppData\\Local\\Packages\\PythonSoftwareFoundation.Python.3.9_qbz5n2kfra8p0\\LocalCache\\local-packages\\Python39\\site-packages\\numpyro\\primitives.py:105\u001b[0m, in \u001b[0;36mMessenger.__call__\u001b[1;34m(self, *args, **kwargs)\u001b[0m\n\u001b[0;32m    103\u001b[0m     \u001b[39mreturn\u001b[39;00m \u001b[39mself\u001b[39m\n\u001b[0;32m    104\u001b[0m \u001b[39mwith\u001b[39;00m \u001b[39mself\u001b[39m:\n\u001b[1;32m--> 105\u001b[0m     \u001b[39mreturn\u001b[39;00m \u001b[39mself\u001b[39m\u001b[39m.\u001b[39mfn(\u001b[39m*\u001b[39margs, \u001b[39m*\u001b[39m\u001b[39m*\u001b[39mkwargs)\n",
      "Cell \u001b[1;32mIn[78], line 31\u001b[0m, in \u001b[0;36mmodel\u001b[1;34m(obs_x, obs_y)\u001b[0m\n\u001b[0;32m     28\u001b[0m z_collection \u001b[39m=\u001b[39m jnp\u001b[39m.\u001b[39mconcatenate((jnp\u001b[39m.\u001b[39marray(z_collection), zs_exp), axis\u001b[39m=\u001b[39m\u001b[39m0\u001b[39m)\n\u001b[0;32m     30\u001b[0m coinflip_p \u001b[39m=\u001b[39m numpyro\u001b[39m.\u001b[39msample(name\u001b[39m=\u001b[39m\u001b[39m\"\u001b[39m\u001b[39mcoinflip_p\u001b[39m\u001b[39m\"\u001b[39m, fn\u001b[39m=\u001b[39mdist\u001b[39m.\u001b[39mBeta(concentration1\u001b[39m=\u001b[39m\u001b[39m1\u001b[39m, concentration0\u001b[39m=\u001b[39m\u001b[39m1\u001b[39m))\n\u001b[1;32m---> 31\u001b[0m \u001b[39mwith\u001b[39;00m numpyro\u001b[39m.\u001b[39;49mplate(name\u001b[39m=\u001b[39;49m\u001b[39m\"\u001b[39;49m\u001b[39mdata\u001b[39;49m\u001b[39m\"\u001b[39;49m, size\u001b[39m=\u001b[39;49m(time, countries)):\n\u001b[0;32m     32\u001b[0m     coinflip \u001b[39m=\u001b[39m numpyro\u001b[39m.\u001b[39msample(name\u001b[39m=\u001b[39m\u001b[39m\"\u001b[39m\u001b[39mcoinflip\u001b[39m\u001b[39m\"\u001b[39m, fn\u001b[39m=\u001b[39mdist\u001b[39m.\u001b[39mBernoulli(probs\u001b[39m=\u001b[39mcoinflip_p))\n\u001b[0;32m     33\u001b[0m     numpyro\u001b[39m.\u001b[39msample(name\u001b[39m=\u001b[39m\u001b[39m\"\u001b[39m\u001b[39my_obs\u001b[39m\u001b[39m\"\u001b[39m, fn\u001b[39m=\u001b[39mdist\u001b[39m.\u001b[39mNormal(loc\u001b[39m=\u001b[39mzs_exp \u001b[39m+\u001b[39m coinflip, scale\u001b[39m=\u001b[39msigma), obs\u001b[39m=\u001b[39mobs_y)\n",
      "File \u001b[1;32m~\\AppData\\Local\\Packages\\PythonSoftwareFoundation.Python.3.9_qbz5n2kfra8p0\\LocalCache\\local-packages\\Python39\\site-packages\\numpyro\\primitives.py:457\u001b[0m, in \u001b[0;36mplate.__init__\u001b[1;34m(self, name, size, subsample_size, dim)\u001b[0m\n\u001b[0;32m    455\u001b[0m \u001b[39mdef\u001b[39;00m \u001b[39m__init__\u001b[39m(\u001b[39mself\u001b[39m, name, size, subsample_size\u001b[39m=\u001b[39m\u001b[39mNone\u001b[39;00m, dim\u001b[39m=\u001b[39m\u001b[39mNone\u001b[39;00m):\n\u001b[0;32m    456\u001b[0m     \u001b[39mself\u001b[39m\u001b[39m.\u001b[39mname \u001b[39m=\u001b[39m name\n\u001b[1;32m--> 457\u001b[0m     \u001b[39massert\u001b[39;00m size \u001b[39m>\u001b[39;49m \u001b[39m0\u001b[39;49m, \u001b[39m\"\u001b[39m\u001b[39msize of plate should be positive\u001b[39m\u001b[39m\"\u001b[39m\n\u001b[0;32m    458\u001b[0m     \u001b[39mself\u001b[39m\u001b[39m.\u001b[39msize \u001b[39m=\u001b[39m size\n\u001b[0;32m    459\u001b[0m     \u001b[39mif\u001b[39;00m dim \u001b[39mis\u001b[39;00m \u001b[39mnot\u001b[39;00m \u001b[39mNone\u001b[39;00m \u001b[39mand\u001b[39;00m dim \u001b[39m>\u001b[39m\u001b[39m=\u001b[39m \u001b[39m0\u001b[39m:\n",
      "\u001b[1;31mTypeError\u001b[0m: '>' not supported between instances of 'tuple' and 'int'"
     ]
    }
   ],
   "source": [
    "print(train_split_np_features.shape, test_split_np_features.shape, train_split_np_target.shape, test_split_np_target.shape)\n",
    "\n",
    "t0 = time.time()\n",
    "\n",
    "rng_key = random.PRNGKey(0)\n",
    "rng_key, rng_key_ = random.split(rng_key)\n",
    "\n",
    "nuts_kernel = NUTS(model=model, max_tree_depth=8, step_size=5e-3, adapt_step_size=False)\n",
    "mcmc = MCMC(nuts_kernel, num_samples=100, num_warmup=50, num_chains=1, progress_bar=True)\n",
    "mcmc.run(rng_key_, obs_x=train_split_np_features, obs_y=train_split_np_target)\n",
    "\n",
    "t_fin = time.time()\n",
    "\n",
    "print(\"Total time: {0:.3f}m\".format((t_fin - t0)/60))"
   ]
  },
  {
   "cell_type": "code",
   "execution_count": 10,
   "metadata": {},
   "outputs": [
    {
     "name": "stdout",
     "output_type": "stream",
     "text": [
      "2.1021454\n",
      "2.1955322823340517\n"
     ]
    }
   ],
   "source": [
    "beta1 = mcmc.get_samples()['beta1'].mean(0)\n",
    "beta2 = mcmc.get_samples()['beta2'].mean(0)\n",
    "errors = []\n",
    "errors_baseline = []\n",
    "for i in range(2, test_split_np_features.shape[0]):\n",
    "    prediction = beta2[0] * test_split_np_target[i-1] + beta2[1] * test_split_np_target[i-2] + test_split_np_features[i] @ beta1\n",
    "    errors.append(np.mean((prediction - test_split_np_target[i])**2))\n",
    "    errors_baseline.append(np.mean(test_split_np_target[i]**2))\n",
    "print(np.mean(errors))\n",
    "print(np.mean(errors_baseline))"
   ]
  }
 ],
 "metadata": {
  "kernelspec": {
   "display_name": "Python 3",
   "language": "python",
   "name": "python3"
  },
  "language_info": {
   "codemirror_mode": {
    "name": "ipython",
    "version": 3
   },
   "file_extension": ".py",
   "mimetype": "text/x-python",
   "name": "python",
   "nbconvert_exporter": "python",
   "pygments_lexer": "ipython3",
   "version": "3.9.13"
  },
  "orig_nbformat": 4
 },
 "nbformat": 4,
 "nbformat_minor": 2
}
