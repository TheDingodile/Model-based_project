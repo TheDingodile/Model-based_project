{
 "cells": [
  {
   "cell_type": "code",
   "execution_count": 35,
   "metadata": {},
   "outputs": [],
   "source": [
    "import numpy as np # linear algebra\n",
    "import pandas as pd # data processing\n",
    "import matplotlib as mplib\n",
    "from matplotlib import pyplot as plt\n",
    "import seaborn as sns\n",
    "import pyro\n",
    "import seaborn as sns"
   ]
  },
  {
   "cell_type": "code",
   "execution_count": 36,
   "metadata": {},
   "outputs": [
    {
     "name": "stdout",
     "output_type": "stream",
     "text": [
      "<class 'pandas.core.frame.DataFrame'>\n",
      "RangeIndex: 2936 entries, 0 to 2935\n",
      "Data columns (total 21 columns):\n",
      " #   Column                      Non-Null Count  Dtype  \n",
      "---  ------                      --------------  -----  \n",
      " 0   Country                     2936 non-null   object \n",
      " 1   continent                   2936 non-null   object \n",
      " 2   Life expectancy             2936 non-null   float64\n",
      " 3   Year                        2936 non-null   int64  \n",
      " 4   Status                      2936 non-null   int64  \n",
      " 5   infant deaths               2745 non-null   float64\n",
      " 6   Alcohol                     2745 non-null   float64\n",
      " 7   Hepatitis B                 2745 non-null   float64\n",
      " 8   MeaslesPrMillion            2745 non-null   float64\n",
      " 9   OverweightOfAdults%         2745 non-null   float64\n",
      " 10  Polio                       2745 non-null   float64\n",
      " 11  Total expenditure           2745 non-null   float64\n",
      " 12  Diphtheria                  2745 non-null   float64\n",
      " 13   HIV/AIDS                   2745 non-null   float64\n",
      " 14  GDP                         2745 non-null   float64\n",
      " 15  Population                  2745 non-null   float64\n",
      " 16   thinness  1-19 years       2745 non-null   float64\n",
      " 17  Schooling                   2745 non-null   float64\n",
      " 18  WaterFacility               2745 non-null   float64\n",
      " 19  WomenInParlament            2745 non-null   float64\n",
      " 20  Life expectancy difference  2745 non-null   float64\n",
      "dtypes: float64(17), int64(2), object(2)\n",
      "memory usage: 481.8+ KB\n"
     ]
    }
   ],
   "source": [
    "# for each country and year change the life expectancy to the difference between life expectancy of this and the next year\n",
    "import time\n",
    "data = pd.read_csv(\"Data/Data_processed.csv\", sep=';')\n",
    "\n",
    "\n",
    "for country in data['Country'].unique():\n",
    "    d = data[data['Country'] == country]\n",
    "    # sort by year\n",
    "    d = d.sort_values(by='Year')\n",
    "    # transform data to look at differences from year to year for all nummerical features (2 first columns are country and continent)\n",
    "    d.iloc[:,5:] = d.iloc[:,5:].diff()\n",
    "    # replace invividual nan values with 0\n",
    "    data[data['Country'] == country] = d\n",
    "\n",
    "data['Life expectancy difference'] = 0\n",
    "for country in data['Country'].unique():\n",
    "    d = data[data['Country'] == country]\n",
    "    # sort by year\n",
    "    d = d.sort_values(by='Year')\n",
    "    # get difference in life expectancy\n",
    "    d['Life expectancy difference'] = d['Life expectancy '].diff()\n",
    "\n",
    "\n",
    "    # replace old values with new values\n",
    "    data[data['Country'] == country] = d\n",
    "\n",
    "# remove year 2000\n",
    "# data = data[data['Year'] != 2000]\n",
    "# remove other data that contains nan values\n",
    "# data = data.dropna()\n",
    "\n",
    "data.info()\n"
   ]
  },
  {
   "cell_type": "code",
   "execution_count": 37,
   "metadata": {},
   "outputs": [
    {
     "name": "stdout",
     "output_type": "stream",
     "text": [
      "Year\n",
      "2002    0.334970\n",
      "2003    0.348231\n",
      "2004    0.343238\n",
      "2005    0.375969\n",
      "2006    0.340868\n",
      "2007    0.331219\n",
      "2008    0.415480\n",
      "2009    0.307339\n",
      "2010    0.458009\n",
      "2011    0.319320\n",
      "2012    0.320209\n",
      "2013    0.287139\n",
      "2014    0.180493\n",
      "Name: Life expectancy difference, dtype: float64\n"
     ]
    }
   ],
   "source": [
    "\n",
    "# print(data.info())\n",
    "# create a new column to store difference in life expectancy for 1, 2 and 3 years in the past\n",
    "data['Life expectancy difference 1 year ago'] = 0\n",
    "data['Life expectancy difference 2 years ago'] = 0\n",
    "# get difference in life expectancy for each country and year\n",
    "for country in data['Country'].unique():\n",
    "    d = data[data['Country'] == country]\n",
    "    # sort by year\n",
    "    d = d.sort_values(by='Year')\n",
    "    # get difference in life expectancy\n",
    "    d['Life expectancy difference'] = d['Life expectancy difference'].shift(-1)\n",
    "    d['Life expectancy difference 1 year ago'] = d['Life expectancy difference'].shift(1)\n",
    "    d['Life expectancy difference 2 years ago'] = d['Life expectancy difference'].shift(2)\n",
    "\n",
    "    # replace old values with new values\n",
    "    data[data['Country'] == country] = d\n",
    "\n",
    "# remove year 2001 and 2002\n",
    "# data = data[data['Year'] != 2001]\n",
    "\n",
    "# loop over each year and print how many nan values there are\n",
    "# for year in data['Year'].unique():\n",
    "#     print(year, data[data['Year'] == year].isna().sum().sum())\n",
    "\n",
    "# print average over contries life expectancy difference for each year\n",
    "data = data.dropna()\n",
    "print(data.groupby('Year')['Life expectancy difference'].mean())\n",
    "\n"
   ]
  },
  {
   "cell_type": "code",
   "execution_count": 62,
   "metadata": {},
   "outputs": [
    {
     "name": "stderr",
     "output_type": "stream",
     "text": [
      "C:\\Users\\jakob\\AppData\\Local\\Temp\\ipykernel_2496\\1908549086.py:14: SettingWithCopyWarning: \n",
      "A value is trying to be set on a copy of a slice from a DataFrame.\n",
      "Try using .loc[row_indexer,col_indexer] = value instead\n",
      "\n",
      "See the caveats in the documentation: https://pandas.pydata.org/pandas-docs/stable/user_guide/indexing.html#returning-a-view-versus-a-copy\n",
      "  train_split[col] = (train_split[col] - mean) / std\n",
      "C:\\Users\\jakob\\AppData\\Local\\Temp\\ipykernel_2496\\1908549086.py:16: SettingWithCopyWarning: \n",
      "A value is trying to be set on a copy of a slice from a DataFrame.\n",
      "Try using .loc[row_indexer,col_indexer] = value instead\n",
      "\n",
      "See the caveats in the documentation: https://pandas.pydata.org/pandas-docs/stable/user_guide/indexing.html#returning-a-view-versus-a-copy\n",
      "  val_split[col] = (val_split[col] - mean) / std\n"
     ]
    }
   ],
   "source": [
    "train_split = data[data['Year'] < 2009]\n",
    "test_split = data[data['Year'] >= 2009]\n",
    "test_split = test_split[test_split['Year'] < 2013]\n",
    "val_split = data[data['Year'] >= 2013]\n",
    "\n",
    "# make list of all columns that need to be standardized\n",
    "cols = train_split.columns\n",
    "cols = cols.drop(['Country', 'continent', 'Year', 'Status'])\n",
    "# standardize all columns except country, continent, year and status\n",
    "for col in cols:\n",
    "    if col not in ['Country', 'continent', 'Year', 'Status']:\n",
    "        mean = train_split[col].mean()\n",
    "        std = train_split[col].std()\n",
    "        train_split[col] = (train_split[col] - mean) / std\n",
    "        test_split[col] = (test_split[col] - mean) / std\n",
    "        val_split[col] = (val_split[col] - mean) / std\n",
    "\n",
    "# make new data without target variable\n",
    "cols = cols.drop(['Life expectancy difference', 'Life expectancy '])\n",
    "\n",
    "\n",
    "# plot life expectancy for each country\n",
    "# for i, country in enumerate(data['Country'].unique()):\n",
    "#     d = data[data['Country'] == country]\n",
    "#     plt.plot(d['Year'], d['Life expectancy difference'], label='Life expectancy ')\n",
    "#     plt.plot(d['Year'], d['Life expectancy difference 1 year ago'], label='Life expectancy ')\n",
    "#     plt.title(country)\n",
    "#     plt.legend()\n",
    "#     plt.show()\n",
    "#     if i == 0:\n",
    "#         break"
   ]
  },
  {
   "cell_type": "code",
   "execution_count": 63,
   "metadata": {},
   "outputs": [
    {
     "name": "stdout",
     "output_type": "stream",
     "text": [
      "Mean squared error:  0.9296440303805034 1.6373452029262858 0.9290472070008566\n",
      "Mean squared error baseline:  0.9996096037329261 1.6831051571269542 0.9596410303376235\n"
     ]
    }
   ],
   "source": [
    "# Fit linear model:\n",
    "from sklearn.linear_model import LinearRegression\n",
    "from sklearn.metrics import mean_squared_error\n",
    "from sklearn.metrics import mean_absolute_error\n",
    "from sklearn.metrics import r2_score\n",
    "\n",
    "# fit a regression model to predict the difference in life expectancy\n",
    "reg = LinearRegression().fit(train_split[cols], train_split['Life expectancy difference'])\n",
    "# for i, col in enumerate(cols):\n",
    "#     print(col, reg.coef_[i])\n",
    "y_pred_test = reg.predict(test_split[cols])\n",
    "y_pred_val = reg.predict(val_split[cols])\n",
    "mse_train = mean_squared_error(train_split['Life expectancy difference'], reg.predict(train_split[cols]))\n",
    "mse_test = mean_squared_error(test_split['Life expectancy difference'], y_pred_test)\n",
    "mse_val = mean_squared_error(val_split['Life expectancy difference'], y_pred_val)\n",
    "print('Mean squared error: ', np.sqrt(mse_train), np.sqrt(mse_test), np.sqrt(mse_val))\n",
    "\n",
    "\n",
    "# compare with baseline model that always predicts average of train data label\n",
    "mse_baseline_train = mean_squared_error(train_split['Life expectancy difference'], np.zeros(len(train_split['Life expectancy difference'])))\n",
    "mse_baseline_test = mean_squared_error(test_split['Life expectancy difference'], np.zeros(len(test_split['Life expectancy difference'])))\n",
    "mse_baseline_val = mean_squared_error(val_split['Life expectancy difference'], np.zeros(len(val_split['Life expectancy difference'])))\n",
    "print('Mean squared error baseline: ', np.sqrt(mse_baseline_train), np.sqrt(mse_baseline_test), np.sqrt(mse_baseline_val))\n",
    "\n"
   ]
  },
  {
   "cell_type": "code",
   "execution_count": 8,
   "metadata": {},
   "outputs": [
    {
     "name": "stdout",
     "output_type": "stream",
     "text": [
      "Mean squared error:  2.0829416288156533\n",
      "infant deaths -0.18181991443626147\n",
      "Alcohol 0.004108867725278199\n",
      "Hepatitis B -0.007684747579936944\n",
      "MeaslesPrMillion -0.01867009519964346\n",
      "OverweightOfAdults% 0.03707408450567632\n",
      "Polio 0.012227003020969443\n",
      "Total expenditure 0.017452499626830473\n",
      "Diphtheria  0.0024662277829400744\n",
      " HIV/AIDS -0.19141139116746791\n",
      "GDP 0.029527973196946278\n",
      "Population 0.04634269095032267\n",
      " thinness  1-19 years 0.02811851114002452\n",
      "Schooling -0.020323200860828883\n",
      "WaterFacility 0.05356292400665752\n",
      "WomenInParlament -0.012765915821733363\n",
      "Life expectancy difference 1 year ago -0.1132523980754056\n",
      "Life expectancy difference 2 years ago 0.13104534141606583\n"
     ]
    }
   ],
   "source": [
    "# fit ridge regression model\n",
    "from sklearn.linear_model import Ridge\n",
    "reg = Ridge(alpha=100).fit(train_split[cols], train_split['Life expectancy difference'])\n",
    "# predict the difference in life expectancy for the test set\n",
    "y_pred = reg.predict(test_split[cols])\n",
    "\n",
    "# calculate the mean squared error\n",
    "mse = mean_squared_error(test_split['Life expectancy difference'], y_pred)\n",
    "print('Mean squared error: ', mse)\n",
    "\n",
    "for i, col in enumerate(cols):\n",
    "    print(col, reg.coef_[i])\n"
   ]
  },
  {
   "cell_type": "code",
   "execution_count": 42,
   "metadata": {},
   "outputs": [],
   "source": [
    "# pyro linear dynamical system with inputs model (we assume that our other variables point to h, which then leads to life expectancy. \n",
    "# (Other variablies can be time dependent or not.) Here h would be like \"life expectancy but without noise\". Model is logical\n",
    "# multi-variate state space model (we assume one hidden h eg. \"Generel score\" that leads to many observed variables. We don't necessarily\n",
    "# assume that increasing the observed variable increases life expectancy. Model doesn't make as much sense as the one above.)\n",
    "# different regimes? War vs not war? Pandemic vs not pandemic? Earthquake vs not earthquake? economic crisis vs not economic crisis? etc.\n",
    "# probably better modelled with mixture model! Since so few \"outlier\" years where something like this happens. \n",
    "# output from h can flip a coin and then decide weight from maybe population or nothing!.\n",
    "\n",
    "import numpy as np\n",
    "import pandas as pd\n",
    "from matplotlib import pyplot as plt\n",
    "from sklearn import linear_model\n",
    "import seaborn as sns\n",
    "import time\n",
    "\n",
    "import numpyro\n",
    "import numpyro.distributions as dist\n",
    "from numpyro import handlers\n",
    "from numpyro.infer import MCMC, NUTS\n",
    "\n",
    "import jax.numpy as jnp\n",
    "from jax import random, vmap\n",
    "from jax.scipy.special import logsumexp\n",
    "from jax import lax\n",
    "\n",
    "# fix random generator seed (for reproducibility of results)\n",
    "np.random.seed(42)\n",
    "\n",
    "# matplotlib style options\n",
    "plt.style.use('ggplot')\n",
    "%matplotlib inline\n",
    "plt.rcParams['figure.figsize'] = (16, 10)\n"
   ]
  },
  {
   "cell_type": "code",
   "execution_count": 61,
   "metadata": {},
   "outputs": [
    {
     "name": "stdout",
     "output_type": "stream",
     "text": [
      "(2,) (10,) (10,) (10,)\n"
     ]
    },
    {
     "name": "stderr",
     "output_type": "stream",
     "text": [
      "sample: 100%|██████████| 110/110 [00:08<00:00, 13.61it/s, 1 steps of size 5.00e-03. acc. prob=0.00]\n"
     ]
    },
    {
     "name": "stdout",
     "output_type": "stream",
     "text": [
      "Total time: 0.190m\n"
     ]
    }
   ],
   "source": [
    "def f(carry, h_external_change):\n",
    "  beta2, z_prev1, z_prev2 = carry\n",
    "  z_t = beta2[0]*z_prev1 + beta2[1]*z_prev2 + h_external_change\n",
    "  z_prev2 = z_prev1\n",
    "  z_prev1 = z_t\n",
    "  return (beta2, z_prev1, z_prev2), z_t\n",
    "\n",
    "\n",
    "def model(obs_x, obs_y):\n",
    "    time = obs_x.shape[0]\n",
    "    countries = obs_x.shape[1]\n",
    "    features_x = obs_x.shape[2]\n",
    "\n",
    "    beta1 = numpyro.sample(name=\"beta1\", fn=dist.Normal(loc=0., scale=1), sample_shape=(features_x,))\n",
    "    xs = numpyro.sample(name=\"xs\", fn=dist.Normal(loc=0., scale=1.), sample_shape=(time, countries, features_x, ), obs=obs_x)\n",
    "    beta2 = numpyro.sample(name=\"beta2\", fn=dist.Normal(loc=0., scale=1), sample_shape=(2,))\n",
    "    tau = numpyro.sample(name=\"tau\", fn=dist.HalfCauchy(scale=.1))\n",
    "    sigma = numpyro.sample(name=\"sigma\", fn=dist.HalfCauchy(scale=.1))\n",
    "    z0 = numpyro.sample(name=\"z0\", fn=dist.Normal(loc=0, scale=.1), sample_shape=(countries,))\n",
    "    z1 = numpyro.sample(name=\"z1\", fn=dist.Normal(loc=0, scale=.1), sample_shape=(countries,))\n",
    "    h_external_change = numpyro.sample(name=\"h_change\", fn=dist.Normal(loc=xs @ beta1, scale=tau))\n",
    "\n",
    "    carry = (beta2, z0, z1)\n",
    "    z_collection = [z0, z1]\n",
    "    carry, zs_exp = lax.scan(f, carry, h_external_change, time)\n",
    "    z_collection = jnp.concatenate((jnp.array(z_collection), zs_exp), axis=0)\n",
    "\n",
    "    numpyro.sample(name=\"y_obs\", fn=dist.Normal(loc=zs_exp, scale=sigma), obs=obs_y)\n",
    "    return z_collection\n"
   ]
  },
  {
   "cell_type": "code",
   "execution_count": 158,
   "metadata": {},
   "outputs": [],
   "source": [
    "# make list of all columns that need to be standardized\n",
    "cols = train_split.columns\n",
    "# cols = cols.drop(['Country', 'continent', 'Year', 'Status'])\n",
    "# standardize all columns except country, continent, year and status\n",
    "for col in cols:\n",
    "    if col not in ['Country', 'continent', 'Year', 'Status']:\n",
    "        mean = train_split[col].mean()\n",
    "        std = train_split[col].std()\n",
    "        train_split[col] = (train_split[col] - mean) / std\n",
    "        test_split[col] = (test_split[col] - mean) / std\n",
    "\n",
    "# make numpy array of standardized data, first dimension is time, second is countries, third is features\n",
    "countries_train = train_split['Country'].unique()\n",
    "years_train = train_split['Year'].unique()\n",
    "countries_test = test_split['Country'].unique()\n",
    "years_test = test_split['Year'].unique()\n",
    "cols = cols.drop(['Life expectancy ', 'Country', 'Year', 'continent', 'Life expectancy difference 1 year ago', 'Life expectancy difference 2 years ago', 'Life expectancy difference'])\n",
    "train_split_np_features = np.empty((len(years_train), len(countries_train), len(cols)))\n",
    "train_split_np_target = np.empty((len(years_train), len(countries_train)))\n",
    "test_split_np_features = np.empty((len(years_test), len(countries_test), len(cols)))\n",
    "test_split_np_target = np.empty((len(years_test), len(countries_test)))\n",
    "\n",
    "target = 'Life expectancy difference'\n",
    "for i, country in enumerate(countries_train):\n",
    "    for j, year in enumerate(years_train):\n",
    "        # take nummeric data of country and put in numpy array\n",
    "        train_split_np_features[j, i] = train_split.loc[(train_split['Country'] == country) & (train_split['Year'] == year)][cols].to_numpy()\n",
    "        # take target of country and put in numpy array\n",
    "        train_split_np_target[j, i] = train_split.loc[(train_split['Country'] == country) & (train_split['Year'] == year)][target].to_numpy()\n",
    "for i, country in enumerate(countries_test):\n",
    "    for j, year in enumerate(years_test):\n",
    "        # take nummeric data of country and put in numpy array\n",
    "        test_split_np_features[j, i] = test_split.loc[(test_split['Country'] == country) & (test_split['Year'] == year)][cols].to_numpy()\n",
    "        # take target of country and put in numpy array\n",
    "        test_split_np_target[j, i] = test_split.loc[(test_split['Country'] == country) & (test_split['Year'] == year)][target].to_numpy()\n",
    "\n",
    "test_split_np_features = np.concatenate((train_split_np_features[-2:], test_split_np_features))\n",
    "test_split_np_target = np.concatenate((train_split_np_target[-2:], test_split_np_target))\n"
   ]
  },
  {
   "cell_type": "code",
   "execution_count": 103,
   "metadata": {},
   "outputs": [
    {
     "name": "stdout",
     "output_type": "stream",
     "text": [
      "(7, 183, 16) (6, 183, 16) (7, 183) (6, 183)\n"
     ]
    },
    {
     "name": "stderr",
     "output_type": "stream",
     "text": [
      "C:\\Users\\jakob\\AppData\\Local\\Temp\\ipykernel_6728\\2819762073.py:9: UserWarning: There are not enough devices to run parallel chains: expected 2 but got 1. Chains will be drawn sequentially. If you are running MCMC in CPU, consider using `numpyro.set_host_device_count(2)` at the beginning of your program. You can double-check how many devices are available in your system using `jax.local_device_count()`.\n",
      "  mcmc = MCMC(nuts_kernel, num_samples=4000, num_warmup=2000, num_chains=2)\n",
      "sample: 100%|██████████| 6000/6000 [07:36<00:00, 13.13it/s, 255 steps of size 5.00e-03. acc. prob=1.00]\n",
      "sample: 100%|██████████| 6000/6000 [10:52<00:00,  9.20it/s, 255 steps of size 5.00e-03. acc. prob=1.00]\n"
     ]
    },
    {
     "name": "stdout",
     "output_type": "stream",
     "text": [
      "Total time: 18.581m\n"
     ]
    }
   ],
   "source": [
    "print(train_split_np_features.shape, test_split_np_features.shape, train_split_np_target.shape, test_split_np_target.shape)\n",
    "\n",
    "t0 = time.time()\n",
    "\n",
    "rng_key = random.PRNGKey(0)\n",
    "rng_key, rng_key_ = random.split(rng_key)\n",
    "\n",
    "nuts_kernel = NUTS(model=model, max_tree_depth=8, step_size=5e-3, adapt_step_size=False)\n",
    "mcmc = MCMC(nuts_kernel, num_samples=4000, num_warmup=2000, num_chains=2)\n",
    "mcmc.run(rng_key_, obs_x=train_split_np_features, obs_y=train_split_np_target)\n",
    "\n",
    "t_fin = time.time()\n",
    "\n",
    "print(\"Total time: {0:.3f}m\".format((t_fin - t0)/60))"
   ]
  },
  {
   "cell_type": "code",
   "execution_count": 130,
   "metadata": {},
   "outputs": [
    {
     "name": "stdout",
     "output_type": "stream",
     "text": [
      "beta1 (8000, 16)\n",
      "beta2 (8000, 2)\n",
      "h_change (8000, 7, 183)\n",
      "sigma (8000,)\n",
      "tau (8000,)\n",
      "z0 (8000, 183)\n",
      "z1 (8000, 183)\n"
     ]
    }
   ],
   "source": [
    "hmc_samples = {k: v for k, v in mcmc.get_samples().items()}\n",
    "for key, value in hmc_samples.items():\n",
    "    print(key, value.shape)\n",
    "# mcmc.print_summary()"
   ]
  },
  {
   "cell_type": "code",
   "execution_count": 174,
   "metadata": {},
   "outputs": [
    {
     "name": "stdout",
     "output_type": "stream",
     "text": [
      "2.0846033\n",
      "2.1955322823340517\n"
     ]
    }
   ],
   "source": [
    "beta1 = mcmc.get_samples()['beta1'].mean(0)\n",
    "beta2 = mcmc.get_samples()['beta2'].mean(0)\n",
    "errors = []\n",
    "errors_baseline = []\n",
    "for i in range(2, test_split_np_features.shape[0]):\n",
    "    prediction = beta2[0] * test_split_np_target[i-1] + beta2[1] * test_split_np_target[i-2] + test_split_np_features[i] @ beta1\n",
    "    errors.append(np.mean((prediction - test_split_np_target[i])**2))\n",
    "    errors_baseline.append(np.mean(test_split_np_target[i]**2))\n",
    "print(np.mean(errors))\n",
    "print(np.mean(errors_baseline))\n",
    "\n"
   ]
  }
 ],
 "metadata": {
  "kernelspec": {
   "display_name": "Python 3",
   "language": "python",
   "name": "python3"
  },
  "language_info": {
   "codemirror_mode": {
    "name": "ipython",
    "version": 3
   },
   "file_extension": ".py",
   "mimetype": "text/x-python",
   "name": "python",
   "nbconvert_exporter": "python",
   "pygments_lexer": "ipython3",
   "version": "3.9.13"
  },
  "orig_nbformat": 4
 },
 "nbformat": 4,
 "nbformat_minor": 2
}
