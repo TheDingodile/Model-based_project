{
 "cells": [
  {
   "cell_type": "code",
   "execution_count": 1,
   "metadata": {},
   "outputs": [
    {
     "name": "stderr",
     "output_type": "stream",
     "text": [
      "C:\\Users\\jakob\\AppData\\Local\\Packages\\PythonSoftwareFoundation.Python.3.9_qbz5n2kfra8p0\\LocalCache\\local-packages\\Python39\\site-packages\\tqdm\\auto.py:21: TqdmWarning: IProgress not found. Please update jupyter and ipywidgets. See https://ipywidgets.readthedocs.io/en/stable/user_install.html\n",
      "  from .autonotebook import tqdm as notebook_tqdm\n"
     ]
    }
   ],
   "source": [
    "import numpy as np # linear algebra\n",
    "import pandas as pd # data processing\n",
    "import matplotlib as mplib\n",
    "from matplotlib import pyplot as plt\n",
    "import seaborn as sns\n",
    "import pyro\n",
    "import seaborn as sns"
   ]
  },
  {
   "cell_type": "code",
   "execution_count": 150,
   "metadata": {},
   "outputs": [
    {
     "name": "stdout",
     "output_type": "stream",
     "text": [
      "<class 'pandas.core.frame.DataFrame'>\n",
      "RangeIndex: 2936 entries, 0 to 2935\n",
      "Data columns (total 21 columns):\n",
      " #   Column                      Non-Null Count  Dtype  \n",
      "---  ------                      --------------  -----  \n",
      " 0   Country                     2936 non-null   object \n",
      " 1   continent                   2936 non-null   object \n",
      " 2   Life expectancy             2936 non-null   float64\n",
      " 3   Year                        2936 non-null   int64  \n",
      " 4   Status                      2936 non-null   int64  \n",
      " 5   infant deaths               2745 non-null   float64\n",
      " 6   Alcohol                     2745 non-null   float64\n",
      " 7   Hepatitis B                 2745 non-null   float64\n",
      " 8   MeaslesPrMillion            2745 non-null   float64\n",
      " 9   OverweightOfAdults%         2745 non-null   float64\n",
      " 10  Polio                       2745 non-null   float64\n",
      " 11  Total expenditure           2745 non-null   float64\n",
      " 12  Diphtheria                  2745 non-null   float64\n",
      " 13   HIV/AIDS                   2745 non-null   float64\n",
      " 14  GDP                         2745 non-null   float64\n",
      " 15  Population                  2745 non-null   float64\n",
      " 16   thinness  1-19 years       2745 non-null   float64\n",
      " 17  Schooling                   2745 non-null   float64\n",
      " 18  WaterFacility               2745 non-null   float64\n",
      " 19  WomenInParlament            2745 non-null   float64\n",
      " 20  Life expectancy difference  2745 non-null   float64\n",
      "dtypes: float64(17), int64(2), object(2)\n",
      "memory usage: 481.8+ KB\n"
     ]
    }
   ],
   "source": [
    "# for each country and year change the life expectancy to the difference between life expectancy of this and the next year\n",
    "import time\n",
    "data = pd.read_csv(\"Data/Data_processed.csv\", sep=';')\n",
    "\n",
    "\n",
    "for country in data['Country'].unique():\n",
    "    d = data[data['Country'] == country]\n",
    "    # sort by year\n",
    "    d = d.sort_values(by='Year')\n",
    "    # transform data to look at differences from year to year for all nummerical features (2 first columns are country and continent)\n",
    "    d.iloc[:,5:] = d.iloc[:,5:].diff()\n",
    "    # replace invividual nan values with 0\n",
    "    data[data['Country'] == country] = d\n",
    "\n",
    "data['Life expectancy difference'] = 0\n",
    "for country in data['Country'].unique():\n",
    "    d = data[data['Country'] == country]\n",
    "    # sort by year\n",
    "    d = d.sort_values(by='Year')\n",
    "    # get difference in life expectancy\n",
    "    d['Life expectancy difference'] = d['Life expectancy '].diff()\n",
    "\n",
    "\n",
    "    # replace old values with new values\n",
    "    data[data['Country'] == country] = d\n",
    "\n",
    "# remove year 2000\n",
    "# data = data[data['Year'] != 2000]\n",
    "# remove other data that contains nan values\n",
    "# data = data.dropna()\n",
    "\n",
    "data.info()\n"
   ]
  },
  {
   "cell_type": "code",
   "execution_count": 151,
   "metadata": {},
   "outputs": [
    {
     "name": "stdout",
     "output_type": "stream",
     "text": [
      "Year\n",
      "2002    0.334970\n",
      "2003    0.348231\n",
      "2004    0.343238\n",
      "2005    0.375969\n",
      "2006    0.340868\n",
      "2007    0.331219\n",
      "2008    0.415480\n",
      "2009    0.307339\n",
      "2010    0.458009\n",
      "2011    0.319320\n",
      "2012    0.320209\n",
      "2013    0.287139\n",
      "2014    0.180493\n",
      "Name: Life expectancy difference, dtype: float64\n"
     ]
    }
   ],
   "source": [
    "\n",
    "# print(data.info())\n",
    "# create a new column to store difference in life expectancy for 1, 2 and 3 years in the past\n",
    "data['Life expectancy difference 1 year ago'] = 0\n",
    "data['Life expectancy difference 2 years ago'] = 0\n",
    "# get difference in life expectancy for each country and year\n",
    "for country in data['Country'].unique():\n",
    "    d = data[data['Country'] == country]\n",
    "    # sort by year\n",
    "    d = d.sort_values(by='Year')\n",
    "    # get difference in life expectancy\n",
    "    d['Life expectancy difference'] = d['Life expectancy difference'].shift(-1)\n",
    "    d['Life expectancy difference 1 year ago'] = d['Life expectancy difference'].shift(1)\n",
    "    d['Life expectancy difference 2 years ago'] = d['Life expectancy difference'].shift(2)\n",
    "\n",
    "    # replace old values with new values\n",
    "    data[data['Country'] == country] = d\n",
    "\n",
    "# remove year 2001 and 2002\n",
    "# data = data[data['Year'] != 2001]\n",
    "\n",
    "# loop over each year and print how many nan values there are\n",
    "# for year in data['Year'].unique():\n",
    "#     print(year, data[data['Year'] == year].isna().sum().sum())\n",
    "\n",
    "# print average over contries life expectancy difference for each year\n",
    "data = data.dropna()\n",
    "print(data.groupby('Year')['Life expectancy difference'].mean())\n",
    "\n"
   ]
  },
  {
   "cell_type": "code",
   "execution_count": 153,
   "metadata": {},
   "outputs": [
    {
     "name": "stderr",
     "output_type": "stream",
     "text": [
      "C:\\Users\\jakob\\AppData\\Local\\Temp\\ipykernel_8924\\4255937255.py:12: SettingWithCopyWarning: \n",
      "A value is trying to be set on a copy of a slice from a DataFrame.\n",
      "Try using .loc[row_indexer,col_indexer] = value instead\n",
      "\n",
      "See the caveats in the documentation: https://pandas.pydata.org/pandas-docs/stable/user_guide/indexing.html#returning-a-view-versus-a-copy\n",
      "  train_split[col] = (train_split[col] - mean) / std\n",
      "C:\\Users\\jakob\\AppData\\Local\\Temp\\ipykernel_8924\\4255937255.py:13: SettingWithCopyWarning: \n",
      "A value is trying to be set on a copy of a slice from a DataFrame.\n",
      "Try using .loc[row_indexer,col_indexer] = value instead\n",
      "\n",
      "See the caveats in the documentation: https://pandas.pydata.org/pandas-docs/stable/user_guide/indexing.html#returning-a-view-versus-a-copy\n",
      "  test_split[col] = (test_split[col] - mean) / std\n"
     ]
    },
    {
     "data": {
      "image/png": "[encoded data removed]",
      "text/plain": [
       "<Figure size 640x480 with 1 Axes>"
      ]
     },
     "metadata": {},
     "output_type": "display_data"
    }
   ],
   "source": [
    "train_split = data[data['Year'] < 2009]\n",
    "test_split = data[data['Year'] >= 2009]\n",
    "\n",
    "# make list of all columns that need to be standardized\n",
    "cols = train_split.columns\n",
    "cols = cols.drop(['Country', 'continent', 'Year', 'Status'])\n",
    "# standardize all columns except country, continent, year and status\n",
    "for col in cols:\n",
    "    if col not in ['Country', 'continent', 'Year', 'Status']:\n",
    "        mean = train_split[col].mean()\n",
    "        std = train_split[col].std()\n",
    "        train_split[col] = (train_split[col] - mean) / std\n",
    "        test_split[col] = (test_split[col] - mean) / std\n",
    "\n",
    "# make new data without target variable\n",
    "cols = cols.drop(['Life expectancy difference', 'Life expectancy '])\n",
    "\n",
    "\n",
    "# plot life expectancy for each country\n",
    "for i, country in enumerate(data['Country'].unique()):\n",
    "    d = data[data['Country'] == country]\n",
    "    plt.plot(d['Year'], d['Life expectancy difference'], label='Life expectancy ')\n",
    "    plt.plot(d['Year'], d['Life expectancy difference 1 year ago'], label='Life expectancy ')\n",
    "    plt.title(country)\n",
    "    plt.legend()\n",
    "    plt.show()\n",
    "    if i == 0:\n",
    "        break"
   ]
  },
  {
   "cell_type": "code",
   "execution_count": 154,
   "metadata": {},
   "outputs": [
    {
     "name": "stdout",
     "output_type": "stream",
     "text": [
      "Mean squared error:  2.074975779975844\n",
      "infant deaths -0.2093278699305671\n",
      "Alcohol 0.004041365209617256\n",
      "Hepatitis B -0.009194633997962854\n",
      "MeaslesPrMillion -0.019121158343471875\n",
      "OverweightOfAdults% 0.04002436171876949\n",
      "Polio 0.012912169261472128\n",
      "Total expenditure 0.019597638647317065\n",
      "Diphtheria  0.002728678000570391\n",
      " HIV/AIDS -0.21100397503512253\n",
      "GDP 0.030943782857016343\n",
      "Population 0.04602623353157656\n",
      " thinness  1-19 years 0.028884260108115647\n",
      "Schooling -0.022592330164471906\n",
      "WaterFacility 0.04929725661525034\n",
      "WomenInParlament -0.015151934737000328\n",
      "Life expectancy difference 1 year ago -0.1382835520703816\n",
      "Life expectancy difference 2 years ago 0.13353548258672196\n",
      "Mean squared error baseline:  2.1955322823340517\n"
     ]
    }
   ],
   "source": [
    "# Fit linear model:\n",
    "from sklearn.linear_model import LinearRegression\n",
    "from sklearn.metrics import mean_squared_error\n",
    "from sklearn.metrics import mean_absolute_error\n",
    "from sklearn.metrics import r2_score\n",
    "\n",
    "# fit a regression model to predict the difference in life expectancy\n",
    "reg = LinearRegression().fit(train_split[cols], train_split['Life expectancy difference'])\n",
    "# predict the difference in life expectancy for the test set\n",
    "y_pred = reg.predict(test_split[cols])\n",
    "\n",
    "# calculate the mean squared error\n",
    "mse = mean_squared_error(test_split['Life expectancy difference'], y_pred)\n",
    "print('Mean squared error: ', mse)\n",
    "\n",
    "for i, col in enumerate(cols):\n",
    "    print(col, reg.coef_[i])\n",
    "\n",
    "# compare with baseline model that always predicts average of train data label\n",
    "y_pred_baseline = np.ones(len(test_split)) * train_split['Life expectancy difference'].mean()\n",
    "mse_baseline = mean_squared_error(test_split['Life expectancy difference'], y_pred_baseline)\n",
    "print('Mean squared error baseline: ', mse_baseline)\n",
    "\n"
   ]
  },
  {
   "cell_type": "code",
   "execution_count": 173,
   "metadata": {},
   "outputs": [
    {
     "name": "stdout",
     "output_type": "stream",
     "text": [
      "Mean squared error:  2.0829416288156533\n",
      "infant deaths -0.18181991443626147\n",
      "Alcohol 0.004108867725278199\n",
      "Hepatitis B -0.007684747579936944\n",
      "MeaslesPrMillion -0.01867009519964346\n",
      "OverweightOfAdults% 0.03707408450567632\n",
      "Polio 0.012227003020969443\n",
      "Total expenditure 0.017452499626830473\n",
      "Diphtheria  0.0024662277829400744\n",
      " HIV/AIDS -0.19141139116746791\n",
      "GDP 0.029527973196946278\n",
      "Population 0.04634269095032267\n",
      " thinness  1-19 years 0.02811851114002452\n",
      "Schooling -0.020323200860828883\n",
      "WaterFacility 0.05356292400665752\n",
      "WomenInParlament -0.012765915821733363\n",
      "Life expectancy difference 1 year ago -0.1132523980754056\n",
      "Life expectancy difference 2 years ago 0.13104534141606583\n"
     ]
    }
   ],
   "source": [
    "# fit ridge regression model\n",
    "from sklearn.linear_model import Ridge\n",
    "reg = Ridge(alpha=100).fit(train_split[cols], train_split['Life expectancy difference'])\n",
    "# predict the difference in life expectancy for the test set\n",
    "y_pred = reg.predict(test_split[cols])\n",
    "\n",
    "# calculate the mean squared error\n",
    "mse = mean_squared_error(test_split['Life expectancy difference'], y_pred)\n",
    "print('Mean squared error: ', mse)\n",
    "\n",
    "for i, col in enumerate(cols):\n",
    "    print(col, reg.coef_[i])\n"
   ]
  },
  {
   "cell_type": "code",
   "execution_count": null,
   "metadata": {},
   "outputs": [],
   "source": [
    "# pyro linear dynamical system with inputs model (we assume that our other variables point to h, which then leads to life expectancy. \n",
    "# (Other variablies can be time dependent or not.) Here h would be like \"life expectancy but without noise\". Model is logical\n",
    "# multi-variate state space model (we assume one hidden h eg. \"Generel score\" that leads to many observed variables. We don't necessarily\n",
    "# assume that increasing the observed variable increases life expectancy. Model doesn't make as much sense as the one above.)\n",
    "# different regimes? War vs not war? Pandemic vs not pandemic? Earthquake vs not earthquake? economic crisis vs not economic crisis? etc.\n",
    "# probably better modelled with mixture model! Since so few \"outlier\" years where something like this happens. \n",
    "# output from h can flip a coin and then decide weight from maybe population or nothing!.\n",
    "\n",
    "import torch\n",
    "import pyro\n",
    "import pyro.distributions as dist\n"
   ]
  }
 ],
 "metadata": {
  "kernelspec": {
   "display_name": "Python 3",
   "language": "python",
   "name": "python3"
  },
  "language_info": {
   "codemirror_mode": {
    "name": "ipython",
    "version": 3
   },
   "file_extension": ".py",
   "mimetype": "text/x-python",
   "name": "python",
   "nbconvert_exporter": "python",
   "pygments_lexer": "ipython3",
   "version": "3.9.13"
  },
  "orig_nbformat": 4
 },
 "nbformat": 4,
 "nbformat_minor": 2
}
